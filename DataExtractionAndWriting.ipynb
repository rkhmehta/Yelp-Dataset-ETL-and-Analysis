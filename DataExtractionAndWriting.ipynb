{
 "cells": [
  {
   "cell_type": "code",
   "execution_count": 1,
   "id": "75d109b9",
   "metadata": {
    "_cell_guid": "b1076dfc-b9ad-4769-8c92-a6c4dae69d19",
    "_uuid": "8f2839f25d086af736a60e9eeb907d3b93b6e0e5",
    "execution": {
     "iopub.execute_input": "2023-10-25T15:04:32.709404Z",
     "iopub.status.busy": "2023-10-25T15:04:32.708456Z",
     "iopub.status.idle": "2023-10-25T15:05:06.210134Z",
     "shell.execute_reply": "2023-10-25T15:05:06.208660Z"
    },
    "papermill": {
     "duration": 33.512983,
     "end_time": "2023-10-25T15:05:06.213147",
     "exception": false,
     "start_time": "2023-10-25T15:04:32.700164",
     "status": "completed"
    },
    "tags": []
   },
   "outputs": [
    {
     "name": "stdout",
     "output_type": "stream",
     "text": [
      "/kaggle/input/yelp-dataset/Dataset_User_Agreement.pdf\n",
      "/kaggle/input/yelp-dataset/yelp_academic_dataset_review.json\n",
      "/kaggle/input/yelp-dataset/yelp_academic_dataset_checkin.json\n",
      "/kaggle/input/yelp-dataset/yelp_academic_dataset_business.json\n",
      "/kaggle/input/yelp-dataset/yelp_academic_dataset_tip.json\n",
      "/kaggle/input/yelp-dataset/yelp_academic_dataset_user.json\n",
      "Collecting PyMySql\r\n",
      "  Downloading PyMySQL-1.1.0-py3-none-any.whl (44 kB)\r\n",
      "\u001b[2K     \u001b[90m━━━━━━━━━━━━━━━━━━━━━━━━━━━━━━━━━━━━━━━━\u001b[0m \u001b[32m44.8/44.8 kB\u001b[0m \u001b[31m1.8 MB/s\u001b[0m eta \u001b[36m0:00:00\u001b[0m\r\n",
      "\u001b[?25hInstalling collected packages: PyMySql\r\n",
      "Successfully installed PyMySql-1.1.0\r\n",
      "Requirement already satisfied: ipython-sql in /opt/conda/lib/python3.10/site-packages (0.5.0)\r\n",
      "Requirement already satisfied: prettytable in /opt/conda/lib/python3.10/site-packages (from ipython-sql) (3.8.0)\r\n",
      "Requirement already satisfied: ipython in /opt/conda/lib/python3.10/site-packages (from ipython-sql) (8.14.0)\r\n",
      "Requirement already satisfied: sqlalchemy>=2.0 in /opt/conda/lib/python3.10/site-packages (from ipython-sql) (2.0.17)\r\n",
      "Requirement already satisfied: sqlparse in /opt/conda/lib/python3.10/site-packages (from ipython-sql) (0.4.4)\r\n",
      "Requirement already satisfied: six in /opt/conda/lib/python3.10/site-packages (from ipython-sql) (1.16.0)\r\n",
      "Requirement already satisfied: ipython-genutils in /opt/conda/lib/python3.10/site-packages (from ipython-sql) (0.2.0)\r\n",
      "Requirement already satisfied: typing-extensions>=4.2.0 in /opt/conda/lib/python3.10/site-packages (from sqlalchemy>=2.0->ipython-sql) (4.6.3)\r\n",
      "Requirement already satisfied: greenlet!=0.4.17 in /opt/conda/lib/python3.10/site-packages (from sqlalchemy>=2.0->ipython-sql) (2.0.2)\r\n",
      "Requirement already satisfied: backcall in /opt/conda/lib/python3.10/site-packages (from ipython->ipython-sql) (0.2.0)\r\n",
      "Requirement already satisfied: decorator in /opt/conda/lib/python3.10/site-packages (from ipython->ipython-sql) (5.1.1)\r\n",
      "Requirement already satisfied: jedi>=0.16 in /opt/conda/lib/python3.10/site-packages (from ipython->ipython-sql) (0.18.2)\r\n",
      "Requirement already satisfied: matplotlib-inline in /opt/conda/lib/python3.10/site-packages (from ipython->ipython-sql) (0.1.6)\r\n",
      "Requirement already satisfied: pickleshare in /opt/conda/lib/python3.10/site-packages (from ipython->ipython-sql) (0.7.5)\r\n",
      "Requirement already satisfied: prompt-toolkit!=3.0.37,<3.1.0,>=3.0.30 in /opt/conda/lib/python3.10/site-packages (from ipython->ipython-sql) (3.0.38)\r\n",
      "Requirement already satisfied: pygments>=2.4.0 in /opt/conda/lib/python3.10/site-packages (from ipython->ipython-sql) (2.15.1)\r\n",
      "Requirement already satisfied: stack-data in /opt/conda/lib/python3.10/site-packages (from ipython->ipython-sql) (0.6.2)\r\n",
      "Requirement already satisfied: traitlets>=5 in /opt/conda/lib/python3.10/site-packages (from ipython->ipython-sql) (5.9.0)\r\n",
      "Requirement already satisfied: pexpect>4.3 in /opt/conda/lib/python3.10/site-packages (from ipython->ipython-sql) (4.8.0)\r\n",
      "Requirement already satisfied: wcwidth in /opt/conda/lib/python3.10/site-packages (from prettytable->ipython-sql) (0.2.6)\r\n",
      "Requirement already satisfied: parso<0.9.0,>=0.8.0 in /opt/conda/lib/python3.10/site-packages (from jedi>=0.16->ipython->ipython-sql) (0.8.3)\r\n",
      "Requirement already satisfied: ptyprocess>=0.5 in /opt/conda/lib/python3.10/site-packages (from pexpect>4.3->ipython->ipython-sql) (0.7.0)\r\n",
      "Requirement already satisfied: executing>=1.2.0 in /opt/conda/lib/python3.10/site-packages (from stack-data->ipython->ipython-sql) (1.2.0)\r\n",
      "Requirement already satisfied: asttokens>=2.1.0 in /opt/conda/lib/python3.10/site-packages (from stack-data->ipython->ipython-sql) (2.2.1)\r\n",
      "Requirement already satisfied: pure-eval in /opt/conda/lib/python3.10/site-packages (from stack-data->ipython->ipython-sql) (0.2.2)\r\n"
     ]
    }
   ],
   "source": [
    "# This Python 3 environment comes with many helpful analytics libraries installed\n",
    "# It is defined by the kaggle/python Docker image: https://github.com/kaggle/docker-python\n",
    "# For example, here's several helpful packages to load\n",
    "\n",
    "import numpy as np # linear algebra\n",
    "import pandas as pd # data processing, CSV file I/O (e.g. pd.read_csv)\n",
    "import json\n",
    "\n",
    "# Input data files are available in the read-only \"../input/\" directory\n",
    "# For example, running this (by clicking run or pressing Shift+Enter) will list all files under the input directory\n",
    "\n",
    "import os\n",
    "for dirname, _, filenames in os.walk('/kaggle/input'):\n",
    "    for filename in filenames:\n",
    "        print(os.path.join(dirname, filename))\n",
    "\n",
    "# You can write up to 20GB to the current directory (/kaggle/working/) that gets preserved as output when you create a version using \"Save & Run All\" \n",
    "# You can also write temporary files to /kaggle/temp/, but they won't be saved outside of the current session\n",
    "\n",
    "from sqlalchemy import create_engine, text\n",
    "!pip install PyMySql\n",
    "import pymysql\n",
    "import sqlalchemy\n",
    "\n",
    "!pip install ipython-sql\n",
    "\n",
    "#Import modules that related to SQL and connection to Azure\n",
    "\n",
    "#Create the engine so that we can get access to Azure MySQL\n",
    "username = 'A09' # Your team name\n",
    "password = 'A09password'\n",
    "host = 'testproject.mysql.database.azure.com'\n",
    "database = 'A09'  # Your team name\n",
    "\n",
    "connection_string = f\"mysql+pymysql://{username}:{password}@{host}/{database}\"\n",
    "\n",
    "ssl_args = {\n",
    "    'ssl_ca': 'path_to/ca-cert.pem',\n",
    "    'ssl_cert': 'path_to/client-cert.pem',\n",
    "    'ssl_key': 'path_to/client-key.pem'\n",
    "}\n",
    "\n",
    "engine = create_engine(\n",
    "    connection_string,\n",
    "    connect_args={'ssl': ssl_args}\n",
    ")\n"
   ]
  },
  {
   "cell_type": "code",
   "execution_count": 2,
   "id": "53b02115",
   "metadata": {
    "execution": {
     "iopub.execute_input": "2023-10-25T15:05:06.230362Z",
     "iopub.status.busy": "2023-10-25T15:05:06.229449Z",
     "iopub.status.idle": "2023-10-25T15:05:40.811055Z",
     "shell.execute_reply": "2023-10-25T15:05:40.809790Z"
    },
    "papermill": {
     "duration": 34.593534,
     "end_time": "2023-10-25T15:05:40.814003",
     "exception": false,
     "start_time": "2023-10-25T15:05:06.220469",
     "status": "completed"
    },
    "tags": []
   },
   "outputs": [
    {
     "name": "stdout",
     "output_type": "stream",
     "text": [
      "Requirement already satisfied: pip in /opt/conda/lib/python3.10/site-packages (23.1.2)\r\n",
      "Collecting pip\r\n",
      "  Downloading pip-23.3.1-py3-none-any.whl (2.1 MB)\r\n",
      "\u001b[2K     \u001b[90m━━━━━━━━━━━━━━━━━━━━━━━━━━━━━━━━━━━━━━━━\u001b[0m \u001b[32m2.1/2.1 MB\u001b[0m \u001b[31m19.3 MB/s\u001b[0m eta \u001b[36m0:00:00\u001b[0m\r\n",
      "\u001b[?25hInstalling collected packages: pip\r\n",
      "  Attempting uninstall: pip\r\n",
      "    Found existing installation: pip 23.1.2\r\n",
      "    Uninstalling pip-23.1.2:\r\n",
      "      Successfully uninstalled pip-23.1.2\r\n",
      "Successfully installed pip-23.3.1\r\n"
     ]
    }
   ],
   "source": [
    "!pip install --upgrade pip"
   ]
  },
  {
   "cell_type": "code",
   "execution_count": 3,
   "id": "28ede705",
   "metadata": {
    "execution": {
     "iopub.execute_input": "2023-10-25T15:05:40.832959Z",
     "iopub.status.busy": "2023-10-25T15:05:40.832480Z",
     "iopub.status.idle": "2023-10-25T15:05:45.860401Z",
     "shell.execute_reply": "2023-10-25T15:05:45.859101Z"
    },
    "papermill": {
     "duration": 5.041141,
     "end_time": "2023-10-25T15:05:45.863213",
     "exception": false,
     "start_time": "2023-10-25T15:05:40.822072",
     "status": "completed"
    },
    "tags": []
   },
   "outputs": [],
   "source": [
    "data_file = open(\"/kaggle/input/yelp-dataset/yelp_academic_dataset_checkin.json\")\n",
    "data = []\n",
    "for line in data_file:\n",
    "  data.append(json.loads(line))\n",
    "checkin_df = pd.DataFrame(data)\n",
    "data_file.close()"
   ]
  },
  {
   "cell_type": "code",
   "execution_count": 4,
   "id": "2493de18",
   "metadata": {
    "execution": {
     "iopub.execute_input": "2023-10-25T15:05:45.880780Z",
     "iopub.status.busy": "2023-10-25T15:05:45.880389Z",
     "iopub.status.idle": "2023-10-25T15:05:51.274047Z",
     "shell.execute_reply": "2023-10-25T15:05:51.272814Z"
    },
    "papermill": {
     "duration": 5.405678,
     "end_time": "2023-10-25T15:05:51.276905",
     "exception": false,
     "start_time": "2023-10-25T15:05:45.871227",
     "status": "completed"
    },
    "tags": []
   },
   "outputs": [],
   "source": [
    "data_file = open(\"/kaggle/input/yelp-dataset/yelp_academic_dataset_business.json\")\n",
    "data = []\n",
    "for line in data_file:\n",
    "  data.append(json.loads(line))\n",
    "business_df = pd.DataFrame(data)\n",
    "data_file.close()"
   ]
  },
  {
   "cell_type": "code",
   "execution_count": 5,
   "id": "b0beefd2",
   "metadata": {
    "execution": {
     "iopub.execute_input": "2023-10-25T15:05:51.295294Z",
     "iopub.status.busy": "2023-10-25T15:05:51.294839Z",
     "iopub.status.idle": "2023-10-25T15:08:29.357572Z",
     "shell.execute_reply": "2023-10-25T15:08:29.356294Z"
    },
    "papermill": {
     "duration": 158.075132,
     "end_time": "2023-10-25T15:08:29.360557",
     "exception": false,
     "start_time": "2023-10-25T15:05:51.285425",
     "status": "completed"
    },
    "tags": []
   },
   "outputs": [],
   "source": [
    "data_file = open(\"/kaggle/input/yelp-dataset/yelp_academic_dataset_review.json\")\n",
    "data = []\n",
    "for line in data_file:\n",
    "  data.append(json.loads(line))\n",
    "review_df = pd.DataFrame(data)\n",
    "data_file.close()"
   ]
  },
  {
   "cell_type": "code",
   "execution_count": 6,
   "id": "63bcfe9a",
   "metadata": {
    "execution": {
     "iopub.execute_input": "2023-10-25T15:08:29.378545Z",
     "iopub.status.busy": "2023-10-25T15:08:29.378110Z",
     "iopub.status.idle": "2023-10-25T15:08:44.421605Z",
     "shell.execute_reply": "2023-10-25T15:08:44.418610Z"
    },
    "papermill": {
     "duration": 15.06048,
     "end_time": "2023-10-25T15:08:44.429072",
     "exception": false,
     "start_time": "2023-10-25T15:08:29.368592",
     "status": "completed"
    },
    "tags": []
   },
   "outputs": [],
   "source": [
    "data_file = open(\"/kaggle/input/yelp-dataset/yelp_academic_dataset_tip.json\")\n",
    "data = []\n",
    "for line in data_file:\n",
    "  data.append(json.loads(line))\n",
    "tip_df = pd.DataFrame(data)\n",
    "data_file.close()"
   ]
  },
  {
   "cell_type": "code",
   "execution_count": 7,
   "id": "d79d5564",
   "metadata": {
    "execution": {
     "iopub.execute_input": "2023-10-25T15:08:44.452942Z",
     "iopub.status.busy": "2023-10-25T15:08:44.451486Z",
     "iopub.status.idle": "2023-10-25T15:10:39.705115Z",
     "shell.execute_reply": "2023-10-25T15:10:39.702216Z"
    },
    "papermill": {
     "duration": 115.269914,
     "end_time": "2023-10-25T15:10:39.710864",
     "exception": false,
     "start_time": "2023-10-25T15:08:44.440950",
     "status": "completed"
    },
    "tags": []
   },
   "outputs": [],
   "source": [
    "data_file = open(\"/kaggle/input/yelp-dataset/yelp_academic_dataset_user.json\")\n",
    "data = []\n",
    "for line in data_file:\n",
    "  data.append(json.loads(line))\n",
    "user_df = pd.DataFrame(data)\n",
    "data_file.close()"
   ]
  },
  {
   "cell_type": "code",
   "execution_count": 8,
   "id": "80501c66",
   "metadata": {
    "execution": {
     "iopub.execute_input": "2023-10-25T15:10:39.735186Z",
     "iopub.status.busy": "2023-10-25T15:10:39.734300Z",
     "iopub.status.idle": "2023-10-25T15:10:39.745380Z",
     "shell.execute_reply": "2023-10-25T15:10:39.743003Z"
    },
    "papermill": {
     "duration": 0.030418,
     "end_time": "2023-10-25T15:10:39.753252",
     "exception": false,
     "start_time": "2023-10-25T15:10:39.722834",
     "status": "completed"
    },
    "tags": []
   },
   "outputs": [
    {
     "name": "stdout",
     "output_type": "stream",
     "text": [
      "<class 'pandas.core.frame.DataFrame'>\n",
      "<class 'pandas.core.frame.DataFrame'>\n",
      "<class 'pandas.core.frame.DataFrame'>\n",
      "<class 'pandas.core.frame.DataFrame'>\n",
      "<class 'pandas.core.frame.DataFrame'>\n"
     ]
    }
   ],
   "source": [
    "#Check if all the dataset has already been imported as DataFrames\n",
    "print(type(business_df))\n",
    "print(type(user_df))\n",
    "print(type(checkin_df))\n",
    "print(type(review_df))\n",
    "print(type(tip_df))"
   ]
  },
  {
   "cell_type": "code",
   "execution_count": 9,
   "id": "a9fe11b9",
   "metadata": {
    "execution": {
     "iopub.execute_input": "2023-10-25T15:10:39.780075Z",
     "iopub.status.busy": "2023-10-25T15:10:39.779473Z",
     "iopub.status.idle": "2023-10-25T15:11:11.953045Z",
     "shell.execute_reply": "2023-10-25T15:11:11.951716Z"
    },
    "papermill": {
     "duration": 32.202303,
     "end_time": "2023-10-25T15:11:11.967061",
     "exception": false,
     "start_time": "2023-10-25T15:10:39.764758",
     "status": "completed"
    },
    "tags": []
   },
   "outputs": [
    {
     "data": {
      "text/plain": [
       "150346"
      ]
     },
     "execution_count": 9,
     "metadata": {},
     "output_type": "execute_result"
    }
   ],
   "source": [
    "business_df.to_sql('business', engine, if_exists='replace', index=True, \n",
    "                   dtype={'attributes': sqlalchemy.types.JSON, 'hours': sqlalchemy.types.JSON}, chunksize = 50000)"
   ]
  },
  {
   "cell_type": "code",
   "execution_count": 10,
   "id": "1a753d3c",
   "metadata": {
    "execution": {
     "iopub.execute_input": "2023-10-25T15:11:11.986724Z",
     "iopub.status.busy": "2023-10-25T15:11:11.985687Z",
     "iopub.status.idle": "2023-10-25T15:11:14.043941Z",
     "shell.execute_reply": "2023-10-25T15:11:14.042192Z"
    },
    "papermill": {
     "duration": 2.073126,
     "end_time": "2023-10-25T15:11:14.048249",
     "exception": false,
     "start_time": "2023-10-25T15:11:11.975123",
     "status": "completed"
    },
    "tags": []
   },
   "outputs": [],
   "source": [
    "max_length = 255 #Set the maximum length for every element in 'date' column\n",
    "checkin_df['date'] = checkin_df['date'].apply(lambda x: x[:max_length] if isinstance(x, str) else x) #Cut off all the characters that is over 255 limit\n",
    "user_df['friends'] = user_df['friends'].apply(lambda x: x[:max_length] if isinstance(x, str) else x) "
   ]
  },
  {
   "cell_type": "code",
   "execution_count": 11,
   "id": "5b1da9ed",
   "metadata": {
    "execution": {
     "iopub.execute_input": "2023-10-25T15:11:14.066919Z",
     "iopub.status.busy": "2023-10-25T15:11:14.066471Z",
     "iopub.status.idle": "2023-10-25T15:11:22.080264Z",
     "shell.execute_reply": "2023-10-25T15:11:22.079023Z"
    },
    "papermill": {
     "duration": 8.026248,
     "end_time": "2023-10-25T15:11:22.082690",
     "exception": false,
     "start_time": "2023-10-25T15:11:14.056442",
     "status": "completed"
    },
    "tags": []
   },
   "outputs": [
    {
     "data": {
      "text/plain": [
       "131930"
      ]
     },
     "execution_count": 11,
     "metadata": {},
     "output_type": "execute_result"
    }
   ],
   "source": [
    "checkin_df.to_sql('checkin', engine, if_exists='replace', index = True, chunksize = 50000)"
   ]
  },
  {
   "cell_type": "code",
   "execution_count": 12,
   "id": "47b58903",
   "metadata": {
    "execution": {
     "iopub.execute_input": "2023-10-25T15:11:22.103069Z",
     "iopub.status.busy": "2023-10-25T15:11:22.102393Z",
     "iopub.status.idle": "2023-10-25T15:12:22.401821Z",
     "shell.execute_reply": "2023-10-25T15:12:22.400411Z"
    },
    "papermill": {
     "duration": 60.321968,
     "end_time": "2023-10-25T15:12:22.413637",
     "exception": false,
     "start_time": "2023-10-25T15:11:22.091669",
     "status": "completed"
    },
    "tags": []
   },
   "outputs": [
    {
     "data": {
      "text/plain": [
       "908915"
      ]
     },
     "execution_count": 12,
     "metadata": {},
     "output_type": "execute_result"
    }
   ],
   "source": [
    "tip_df.to_sql('tip', engine, if_exists='replace', index=True, chunksize = 50000)"
   ]
  },
  {
   "cell_type": "code",
   "execution_count": 13,
   "id": "86813a0e",
   "metadata": {
    "execution": {
     "iopub.execute_input": "2023-10-25T15:12:22.435335Z",
     "iopub.status.busy": "2023-10-25T15:12:22.434809Z",
     "iopub.status.idle": "2023-10-25T15:17:28.077721Z",
     "shell.execute_reply": "2023-10-25T15:17:28.076341Z"
    },
    "papermill": {
     "duration": 305.669073,
     "end_time": "2023-10-25T15:17:28.091832",
     "exception": false,
     "start_time": "2023-10-25T15:12:22.422759",
     "status": "completed"
    },
    "tags": []
   },
   "outputs": [
    {
     "data": {
      "text/plain": [
       "1987897"
      ]
     },
     "execution_count": 13,
     "metadata": {},
     "output_type": "execute_result"
    }
   ],
   "source": [
    "user_df.to_sql('user', engine, if_exists='replace', index=True, chunksize = 50000)"
   ]
  },
  {
   "cell_type": "code",
   "execution_count": 14,
   "id": "74cf9764",
   "metadata": {
    "execution": {
     "iopub.execute_input": "2023-10-25T15:17:28.115342Z",
     "iopub.status.busy": "2023-10-25T15:17:28.114006Z",
     "iopub.status.idle": "2023-10-25T15:17:29.082674Z",
     "shell.execute_reply": "2023-10-25T15:17:29.080940Z"
    },
    "papermill": {
     "duration": 0.982597,
     "end_time": "2023-10-25T15:17:29.086131",
     "exception": false,
     "start_time": "2023-10-25T15:17:28.103534",
     "status": "completed"
    },
    "tags": []
   },
   "outputs": [
    {
     "data": {
      "text/plain": [
       "1000"
      ]
     },
     "execution_count": 14,
     "metadata": {},
     "output_type": "execute_result"
    }
   ],
   "source": [
    "review_df.iloc[:1000].to_sql('review', engine, if_exists='replace', index=True, chunksize = 50000)"
   ]
  },
  {
   "cell_type": "code",
   "execution_count": 15,
   "id": "b0e495ea",
   "metadata": {
    "execution": {
     "iopub.execute_input": "2023-10-25T15:17:29.107934Z",
     "iopub.status.busy": "2023-10-25T15:17:29.107214Z",
     "iopub.status.idle": "2023-10-25T15:17:29.177405Z",
     "shell.execute_reply": "2023-10-25T15:17:29.176259Z"
    },
    "papermill": {
     "duration": 0.084481,
     "end_time": "2023-10-25T15:17:29.180000",
     "exception": false,
     "start_time": "2023-10-25T15:17:29.095519",
     "status": "completed"
    },
    "tags": []
   },
   "outputs": [
    {
     "data": {
      "text/html": [
       "<div>\n",
       "<style scoped>\n",
       "    .dataframe tbody tr th:only-of-type {\n",
       "        vertical-align: middle;\n",
       "    }\n",
       "\n",
       "    .dataframe tbody tr th {\n",
       "        vertical-align: top;\n",
       "    }\n",
       "\n",
       "    .dataframe thead th {\n",
       "        text-align: right;\n",
       "    }\n",
       "</style>\n",
       "<table border=\"1\" class=\"dataframe\">\n",
       "  <thead>\n",
       "    <tr style=\"text-align: right;\">\n",
       "      <th></th>\n",
       "      <th>index</th>\n",
       "      <th>review_id</th>\n",
       "      <th>user_id</th>\n",
       "      <th>business_id</th>\n",
       "      <th>stars</th>\n",
       "      <th>useful</th>\n",
       "      <th>funny</th>\n",
       "      <th>cool</th>\n",
       "      <th>text</th>\n",
       "      <th>date</th>\n",
       "    </tr>\n",
       "  </thead>\n",
       "  <tbody>\n",
       "    <tr>\n",
       "      <th>0</th>\n",
       "      <td>0</td>\n",
       "      <td>KU_O5udG6zpxOg-VcAEodg</td>\n",
       "      <td>mh_-eMZ6K5RLWhZyISBhwA</td>\n",
       "      <td>XQfwVwDr-v0ZS3_CbbE5Xw</td>\n",
       "      <td>3.0</td>\n",
       "      <td>0</td>\n",
       "      <td>0</td>\n",
       "      <td>0</td>\n",
       "      <td>If you decide to eat here, just be aware it is...</td>\n",
       "      <td>2018-07-07 22:09:11</td>\n",
       "    </tr>\n",
       "    <tr>\n",
       "      <th>1</th>\n",
       "      <td>2</td>\n",
       "      <td>saUsX_uimxRlCVr67Z4Jig</td>\n",
       "      <td>8g_iMtfSiwikVnbP2etR0A</td>\n",
       "      <td>YjUWPpI6HXG530lwP-fb2A</td>\n",
       "      <td>3.0</td>\n",
       "      <td>0</td>\n",
       "      <td>0</td>\n",
       "      <td>0</td>\n",
       "      <td>Family diner. Had the buffet. Eclectic assortm...</td>\n",
       "      <td>2014-02-05 20:30:30</td>\n",
       "    </tr>\n",
       "    <tr>\n",
       "      <th>2</th>\n",
       "      <td>8</td>\n",
       "      <td>ZKvDG2sBvHVdF5oBNUOpAQ</td>\n",
       "      <td>wSTuiTk-sKNdcFyprzZAjg</td>\n",
       "      <td>B5XSoSG3SfvQGtKEGQ1tSQ</td>\n",
       "      <td>3.0</td>\n",
       "      <td>1</td>\n",
       "      <td>1</td>\n",
       "      <td>0</td>\n",
       "      <td>This easter instead of going to Lopez Lake we ...</td>\n",
       "      <td>2016-03-30 22:46:33</td>\n",
       "    </tr>\n",
       "    <tr>\n",
       "      <th>3</th>\n",
       "      <td>9</td>\n",
       "      <td>pUycOfUwM8vqX7KjRRhUEA</td>\n",
       "      <td>59MxRhNVhU9MYndMkz0wtw</td>\n",
       "      <td>gebiRewfieSdtt17PTW6Zg</td>\n",
       "      <td>3.0</td>\n",
       "      <td>0</td>\n",
       "      <td>0</td>\n",
       "      <td>0</td>\n",
       "      <td>Had a party of 6 here for hibachi. Our waitres...</td>\n",
       "      <td>2016-07-25 07:31:06</td>\n",
       "    </tr>\n",
       "    <tr>\n",
       "      <th>4</th>\n",
       "      <td>21</td>\n",
       "      <td>ZVvhc3Go7v5I8XTiVoWmqQ</td>\n",
       "      <td>WBpQDAZymU0dhIqXcACGNw</td>\n",
       "      <td>ut6fi2W2YaipNOqvi7e0jw</td>\n",
       "      <td>3.0</td>\n",
       "      <td>0</td>\n",
       "      <td>0</td>\n",
       "      <td>0</td>\n",
       "      <td>Upland is a brewery based out of Bloomington, ...</td>\n",
       "      <td>2014-11-12 14:12:20</td>\n",
       "    </tr>\n",
       "  </tbody>\n",
       "</table>\n",
       "</div>"
      ],
      "text/plain": [
       "   index               review_id                 user_id  \\\n",
       "0      0  KU_O5udG6zpxOg-VcAEodg  mh_-eMZ6K5RLWhZyISBhwA   \n",
       "1      2  saUsX_uimxRlCVr67Z4Jig  8g_iMtfSiwikVnbP2etR0A   \n",
       "2      8  ZKvDG2sBvHVdF5oBNUOpAQ  wSTuiTk-sKNdcFyprzZAjg   \n",
       "3      9  pUycOfUwM8vqX7KjRRhUEA  59MxRhNVhU9MYndMkz0wtw   \n",
       "4     21  ZVvhc3Go7v5I8XTiVoWmqQ  WBpQDAZymU0dhIqXcACGNw   \n",
       "\n",
       "              business_id  stars  useful  funny  cool  \\\n",
       "0  XQfwVwDr-v0ZS3_CbbE5Xw    3.0       0      0     0   \n",
       "1  YjUWPpI6HXG530lwP-fb2A    3.0       0      0     0   \n",
       "2  B5XSoSG3SfvQGtKEGQ1tSQ    3.0       1      1     0   \n",
       "3  gebiRewfieSdtt17PTW6Zg    3.0       0      0     0   \n",
       "4  ut6fi2W2YaipNOqvi7e0jw    3.0       0      0     0   \n",
       "\n",
       "                                                text                 date  \n",
       "0  If you decide to eat here, just be aware it is...  2018-07-07 22:09:11  \n",
       "1  Family diner. Had the buffet. Eclectic assortm...  2014-02-05 20:30:30  \n",
       "2  This easter instead of going to Lopez Lake we ...  2016-03-30 22:46:33  \n",
       "3  Had a party of 6 here for hibachi. Our waitres...  2016-07-25 07:31:06  \n",
       "4  Upland is a brewery based out of Bloomington, ...  2014-11-12 14:12:20  "
      ]
     },
     "execution_count": 15,
     "metadata": {},
     "output_type": "execute_result"
    }
   ],
   "source": [
    "query = \"SELECT * FROM review where stars=3.0 LIMIT 5;\"\n",
    "\n",
    "# Use the engine to execute the query and load the result into a DataFrame\n",
    "result_df = pd.read_sql_query(text(query), engine)\n",
    "\n",
    "# Now result_df contains the first five rows of your_table_name\n",
    "result_df"
   ]
  }
 ],
 "metadata": {
  "kernelspec": {
   "display_name": "Python 3",
   "language": "python",
   "name": "python3"
  },
  "language_info": {
   "codemirror_mode": {
    "name": "ipython",
    "version": 3
   },
   "file_extension": ".py",
   "mimetype": "text/x-python",
   "name": "python",
   "nbconvert_exporter": "python",
   "pygments_lexer": "ipython3",
   "version": "3.10.12"
  },
  "papermill": {
   "default_parameters": {},
   "duration": 784.585064,
   "end_time": "2023-10-25T15:17:33.424146",
   "environment_variables": {},
   "exception": null,
   "input_path": "__notebook__.ipynb",
   "output_path": "__notebook__.ipynb",
   "parameters": {},
   "start_time": "2023-10-25T15:04:28.839082",
   "version": "2.4.0"
  }
 },
 "nbformat": 4,
 "nbformat_minor": 5
}
